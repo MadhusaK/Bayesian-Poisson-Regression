{
 "cells": [
  {
   "cell_type": "markdown",
   "metadata": {},
   "source": [
    "$$Y_i \\sim \\text{Pois}(\\exp \\left[  \\beta_0 + \\beta_1\\times (X_1 = \\text{'male'}) \n",
    " + \\beta_2\\times X_2 + \\beta_3(X_3 = \\text{'General'}) +  \\beta_4 \\times (X_3 = \\text{'Vocational'})  \\right])$$\n",
    " \n",
    " Where  \n",
    "$Y$ - days absent  \n",
    "$X_1$ - represents the gender   \n",
    "$X_2$ - math test scores  \n",
    "$X_3$ - Gender  \n",
    "$\\mathbf{\\beta} \\sim \\text{Norm}(\\mathbf{0}, \\tau_0^2\\mathbf{1}) $ , arbitrary we use  $\\tau_0 = 1000$   \n",
    "$\\text{Var}(\\beta | Y_i, \\mathbf{X}) = \\hat\\sigma^2(\\mathbf{X^{\\top}X})^{-1}$  (Hoff Ch.10)  \n"
   ]
  },
  {
   "cell_type": "code",
   "execution_count": 13,
   "metadata": {},
   "outputs": [
    {
     "name": "stderr",
     "output_type": "stream",
     "text": [
      "Warning message:\n",
      "\"package 'mpcmp' is in use and will not be installed\"\n",
      "Warning message:\n",
      "\"package 'mvtnorm' is in use and will not be installed\"\n"
     ]
    },
    {
     "data": {
      "image/png": "[encoded data removed]",
      "text/plain": [
       "Plot with title \"Histogram of y\""
      ]
     },
     "metadata": {
      "image/png": {
       "height": 420,
       "width": 420
      }
     },
     "output_type": "display_data"
    },
    {
     "data": {
      "image/png": "[encoded data removed]",
      "text/plain": [
       "Plot with title \"Beta 0\""
      ]
     },
     "metadata": {
      "image/png": {
       "height": 420,
       "width": 420
      }
     },
     "output_type": "display_data"
    },
    {
     "data": {
      "image/png": "[encoded data removed]",
      "text/plain": [
       "Plot with title \"Y Hat\""
      ]
     },
     "metadata": {
      "image/png": {
       "height": 420,
       "width": 420
      }
     },
     "output_type": "display_data"
    }
   ],
   "source": [
    "install.packages(\"mpcmp\")\n",
    "install.packages(\"mvtnorm\")\n",
    "\n",
    "library(mpcmp)\n",
    "library(\"mvtnorm\")\n",
    "data(\"attendance\")\n",
    "\n",
    "y <-  attendance$daysabs\n",
    "\n",
    "n <- length(y) ## Number of samples\n",
    "\n",
    "X.int <- rep(1, n) # Intercept of the features\n",
    "X.X1 <- ifelse(attendance$gender==\"male\",1,0) ## 1 = male\n",
    "X.X2 <- attendance$math # Math score\n",
    "X.X3 <- ifelse(attendance$prog==\"Vocational\",1,0) ## 1 = ''Vocational\n",
    "X.X4 <- ifelse(attendance$prog==\"General\",1,0) ## 1 = 'General'\n",
    "\n",
    "\n",
    "## Create Training data\n",
    "X <- data.frame(X.int, X.X1, X.X2, X.X3, X.X4) # Feature data\n",
    "X <- data.matrix(X)\n",
    "p <- dim(X)[2] # Number of features after transformation\n",
    "\n",
    "\n",
    "# Proposal Density\n",
    "prop_m.beta <- rep(0, p)\n",
    "prop_prior_sd.beta <- rep(100,p)\n",
    "prop_post_var <- var.prop <- var(log(y+1/2))*solve ( t(X) %*% X)  ## Posterior Variance \n",
    "\n",
    "##solve ( t(X) %*% X)  - Solves equation t(x)y= X -> y = (t(X)X)^{-1} \n",
    "\n",
    "\n",
    "## Initialisation\n",
    "itr <- 10000 # Number of iterations\n",
    "beta <- rep(0,p) # Initial state\n",
    "beta.stor <- matrix(0, nrow =itr , ncol = p) # Initialise Storag matrix\n",
    "app = 0 # Number of acceptances \n",
    "\n",
    "for (s in 1:itr)\n",
    "{\n",
    "  # Step 1. Sample from the proposal\n",
    "  beta.p <- t(rmvnorm(1, beta, var.prop))\n",
    "  \n",
    "  lpr <- sum(dpois(y, exp(X%*%beta.p), log=T)) - \n",
    "    sum(dpois(y, exp(X%*%beta), log=T)) +\n",
    "    sum(dnorm(beta.p, prop_m.beta, prop_prior_sd.beta, log=T)) - \n",
    "    sum(dnorm(beta, prop_m.beta, prop_prior_sd.beta, log=T))\n",
    "  \n",
    "  if (log (runif(1)) < lpr){\n",
    "    beta <- beta.p #Accept proposal\n",
    "    app <- app + 1\n",
    "  }\n",
    "  \n",
    "  beta.stor[s, ] <- beta # Store current beta\n",
    "}\n",
    "\n",
    "hist(y)\n",
    "heading = paste(\"Beta 0\")\n",
    "hist(beta.stor[,1], main = heading)\n",
    "\n",
    "heading = paste(\"Y Hat\")\n",
    "hist(exp(X %*% beta.stor[itr,] ),  main = heading)"
   ]
  },
  {
   "cell_type": "code",
   "execution_count": null,
   "metadata": {},
   "outputs": [],
   "source": []
  },
  {
   "cell_type": "code",
   "execution_count": null,
   "metadata": {},
   "outputs": [],
   "source": []
  }
 ],
 "metadata": {
  "kernelspec": {
   "display_name": "R",
   "language": "R",
   "name": "ir"
  },
  "language_info": {
   "codemirror_mode": "r",
   "file_extension": ".r",
   "mimetype": "text/x-r-source",
   "name": "R",
   "pygments_lexer": "r",
   "version": "3.6.1"
  }
 },
 "nbformat": 4,
 "nbformat_minor": 2
}
